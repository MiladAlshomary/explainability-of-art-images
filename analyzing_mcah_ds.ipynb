{
 "cells": [
  {
   "cell_type": "code",
   "execution_count": 1,
   "metadata": {},
   "outputs": [],
   "source": [
    "import sys\n",
    "import os\n",
    "os.environ['TRANSFORMERS_CACHE'] = '/mnt/swordfish-pool2/milad/hf-cache'\n",
    "os.environ['HF_DATASETS_CACHE'] = '/mnt/swordfish-pool2/milad/hf-cache'\n",
    "os.environ['OPENAI_API_KEY'] = 'zTbZNk16Ik1pZnqLn38ZT3BlbkFJImq3pd7widkr7RzsC771'\n",
    "os.environ['CUDA_VISIBLE_DEVICES'] = '6'\n",
    "\n",
    "sys.path.append('/local/nlp/milad/code/explainability-of-art-images/')\n"
   ]
  },
  {
   "cell_type": "code",
   "execution_count": 2,
   "metadata": {},
   "outputs": [
    {
     "name": "stderr",
     "output_type": "stream",
     "text": [
      "/local/nlp/milad/conda-envs/trl-library/lib/python3.10/site-packages/transformers/utils/hub.py:111: FutureWarning: Using `TRANSFORMERS_CACHE` is deprecated and will be removed in v5 of Transformers. Use `HF_HOME` instead.\n",
      "  warnings.warn(\n"
     ]
    }
   ],
   "source": [
    "from transformers import AutoModelForCausalLM, AutoTokenizer\n",
    "from transformers.generation import GenerationConfig\n",
    "import torch\n",
    "from PIL import Image\n",
    "from transformers import AutoProcessor, AutoModelForVision2Seq\n",
    "import pandas as pd"
   ]
  },
  {
   "cell_type": "code",
   "execution_count": 3,
   "metadata": {
    "scrolled": true
   },
   "outputs": [],
   "source": [
    "image_desc = pd.read_csv('/mnt/swordfish-pool2/milad/explainability-for-art-images/mcah_dataset/images_metadata.csv')"
   ]
  },
  {
   "cell_type": "code",
   "execution_count": 5,
   "metadata": {},
   "outputs": [
    {
     "data": {
      "text/html": [
       "<div>\n",
       "<style scoped>\n",
       "    .dataframe tbody tr th:only-of-type {\n",
       "        vertical-align: middle;\n",
       "    }\n",
       "\n",
       "    .dataframe tbody tr th {\n",
       "        vertical-align: top;\n",
       "    }\n",
       "\n",
       "    .dataframe thead th {\n",
       "        text-align: right;\n",
       "    }\n",
       "</style>\n",
       "<table border=\"1\" class=\"dataframe\">\n",
       "  <thead>\n",
       "    <tr style=\"text-align: right;\">\n",
       "      <th></th>\n",
       "      <th>Title</th>\n",
       "      <th>Image View Description</th>\n",
       "      <th>Record ID</th>\n",
       "      <th>Collection</th>\n",
       "      <th>Alternative Name</th>\n",
       "      <th>Start Date</th>\n",
       "      <th>End Date</th>\n",
       "      <th>Latitude</th>\n",
       "      <th>Longitude</th>\n",
       "      <th>Building Description</th>\n",
       "    </tr>\n",
       "  </thead>\n",
       "  <tbody>\n",
       "    <tr>\n",
       "      <th>0</th>\n",
       "      <td>Agonges, Église Notre-Dame</td>\n",
       "      <td>Pier</td>\n",
       "      <td>agon01_b_3</td>\n",
       "      <td>Romanesque Churches of the Bourbonnais</td>\n",
       "      <td>Church of Our Lady</td>\n",
       "      <td>NaN</td>\n",
       "      <td>NaN</td>\n",
       "      <td>46.606026</td>\n",
       "      <td>3.158569</td>\n",
       "      <td>NaN</td>\n",
       "    </tr>\n",
       "    <tr>\n",
       "      <th>1</th>\n",
       "      <td>Agonges, Église Notre-Dame</td>\n",
       "      <td>Pier</td>\n",
       "      <td>agon01_c_6</td>\n",
       "      <td>Romanesque Churches of the Bourbonnais</td>\n",
       "      <td>Church of Our Lady</td>\n",
       "      <td>NaN</td>\n",
       "      <td>NaN</td>\n",
       "      <td>46.606026</td>\n",
       "      <td>3.158569</td>\n",
       "      <td>NaN</td>\n",
       "    </tr>\n",
       "    <tr>\n",
       "      <th>2</th>\n",
       "      <td>Agonges, Église Notre-Dame</td>\n",
       "      <td>Exterior: Buttress</td>\n",
       "      <td>agon01e_bu_n_002</td>\n",
       "      <td>Romanesque Churches of the Bourbonnais</td>\n",
       "      <td>Church of Our Lady</td>\n",
       "      <td>NaN</td>\n",
       "      <td>NaN</td>\n",
       "      <td>46.606026</td>\n",
       "      <td>3.158569</td>\n",
       "      <td>NaN</td>\n",
       "    </tr>\n",
       "    <tr>\n",
       "      <th>3</th>\n",
       "      <td>Agonges, Église Notre-Dame</td>\n",
       "      <td>Exterior: Buttress</td>\n",
       "      <td>agon01e_bu_n_003</td>\n",
       "      <td>Romanesque Churches of the Bourbonnais</td>\n",
       "      <td>Church of Our Lady</td>\n",
       "      <td>NaN</td>\n",
       "      <td>NaN</td>\n",
       "      <td>46.606026</td>\n",
       "      <td>3.158569</td>\n",
       "      <td>NaN</td>\n",
       "    </tr>\n",
       "    <tr>\n",
       "      <th>4</th>\n",
       "      <td>Agonges, Église Notre-Dame</td>\n",
       "      <td>Exterior: Capital</td>\n",
       "      <td>agon01e_ca_po_s_1e_001</td>\n",
       "      <td>Romanesque Churches of the Bourbonnais</td>\n",
       "      <td>Church of Our Lady</td>\n",
       "      <td>NaN</td>\n",
       "      <td>NaN</td>\n",
       "      <td>46.606026</td>\n",
       "      <td>3.158569</td>\n",
       "      <td>NaN</td>\n",
       "    </tr>\n",
       "  </tbody>\n",
       "</table>\n",
       "</div>"
      ],
      "text/plain": [
       "                        Title Image View Description               Record ID  \\\n",
       "0  Agonges, Église Notre-Dame                   Pier              agon01_b_3   \n",
       "1  Agonges, Église Notre-Dame                   Pier              agon01_c_6   \n",
       "2  Agonges, Église Notre-Dame     Exterior: Buttress        agon01e_bu_n_002   \n",
       "3  Agonges, Église Notre-Dame     Exterior: Buttress        agon01e_bu_n_003   \n",
       "4  Agonges, Église Notre-Dame      Exterior: Capital  agon01e_ca_po_s_1e_001   \n",
       "\n",
       "                               Collection    Alternative Name  Start Date  \\\n",
       "0  Romanesque Churches of the Bourbonnais  Church of Our Lady         NaN   \n",
       "1  Romanesque Churches of the Bourbonnais  Church of Our Lady         NaN   \n",
       "2  Romanesque Churches of the Bourbonnais  Church of Our Lady         NaN   \n",
       "3  Romanesque Churches of the Bourbonnais  Church of Our Lady         NaN   \n",
       "4  Romanesque Churches of the Bourbonnais  Church of Our Lady         NaN   \n",
       "\n",
       "   End Date   Latitude  Longitude Building Description  \n",
       "0       NaN  46.606026   3.158569                  NaN  \n",
       "1       NaN  46.606026   3.158569                  NaN  \n",
       "2       NaN  46.606026   3.158569                  NaN  \n",
       "3       NaN  46.606026   3.158569                  NaN  \n",
       "4       NaN  46.606026   3.158569                  NaN  "
      ]
     },
     "execution_count": 5,
     "metadata": {},
     "output_type": "execute_result"
    }
   ],
   "source": [
    "image_desc.head()"
   ]
  },
  {
   "cell_type": "code",
   "execution_count": 7,
   "metadata": {},
   "outputs": [
    {
     "name": "stdout",
     "output_type": "stream",
     "text": [
      "Collection\n",
      "Romanesque Churches of the Bourbonnais    9215\n",
      "Name: count, dtype: int64\n"
     ]
    }
   ],
   "source": [
    "print(image_desc.Collection.value_counts())"
   ]
  },
  {
   "cell_type": "code",
   "execution_count": 8,
   "metadata": {},
   "outputs": [
    {
     "name": "stdout",
     "output_type": "stream",
     "text": [
      "Alternative Name\n",
      "Church of Saint Martin         1329\n",
      "Church of Our Lady              653\n",
      "Church of Saint Peter           643\n",
      "Church of Saint Julien          544\n",
      "Church of Saint Denis           366\n",
      "                               ... \n",
      "Church of Saint Christopher       2\n",
      "Church of Saint Aignan            1\n",
      "Church of Saint Sulpice           1\n",
      "Church of Saint-Martin            1\n",
      "Church of Saint Marien            1\n",
      "Name: count, Length: 71, dtype: int64\n"
     ]
    }
   ],
   "source": [
    "print(image_desc['Alternative Name'].value_counts())"
   ]
  },
  {
   "cell_type": "code",
   "execution_count": 9,
   "metadata": {},
   "outputs": [
    {
     "name": "stdout",
     "output_type": "stream",
     "text": [
      "Title\n",
      "Souvigny, Église de Saint-Pierre-et-Saint-Paul          297\n",
      "Villefranche-d'Allier, Église Saint-Jaques-Le-Majeur    246\n",
      "Ygrande, Église Saint-Martin                            226\n",
      "Yzeure, Église Saint-Pierre                             217\n",
      "Saint-Menoux, Église Saint-Menoux                       208\n",
      "                                                       ... \n",
      "Montcombroux-les-Mines, Église Saint-Jean-Baptiste        1\n",
      "Saint-Germain-des-Fossés, Église Notre-Dame               1\n",
      "Seuillet, Église Saint-Martial                            1\n",
      "Target, Église Saint-Marien                               1\n",
      "Vernusse, Église Saint-Martin                             1\n",
      "Name: count, Length: 136, dtype: int64\n"
     ]
    }
   ],
   "source": [
    "print(image_desc['Title'].value_counts())"
   ]
  },
  {
   "cell_type": "code",
   "execution_count": null,
   "metadata": {},
   "outputs": [],
   "source": []
  }
 ],
 "metadata": {
  "kernelspec": {
   "display_name": "Python 3 (ipykernel)",
   "language": "python",
   "name": "python3"
  },
  "language_info": {
   "codemirror_mode": {
    "name": "ipython",
    "version": 3
   },
   "file_extension": ".py",
   "mimetype": "text/x-python",
   "name": "python",
   "nbconvert_exporter": "python",
   "pygments_lexer": "ipython3",
   "version": "3.9.23"
  }
 },
 "nbformat": 4,
 "nbformat_minor": 4
}
