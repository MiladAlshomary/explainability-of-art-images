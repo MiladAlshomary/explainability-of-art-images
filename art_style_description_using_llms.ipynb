{
 "cells": [
  {
   "cell_type": "code",
   "execution_count": 1,
   "metadata": {},
   "outputs": [],
   "source": [
    "import sys\n",
    "import os\n",
    "os.environ['TRANSFORMERS_CACHE'] = '/mnt/swordfish-pool2/milad/hf-cache'\n",
    "os.environ['HF_DATASETS_CACHE'] = '/mnt/swordfish-pool2/milad/hf-cache'\n",
    "os.environ['OPENAI_API_KEY'] = 'zTbZNk16Ik1pZnqLn38ZT3BlbkFJImq3pd7widkr7RzsC771'\n",
    "os.environ['CUDA_VISIBLE_DEVICES'] = '6'\n",
    "\n",
    "sys.path.append('/local/nlp/milad/code/explainability-of-art-images/')\n"
   ]
  },
  {
   "cell_type": "code",
   "execution_count": 2,
   "metadata": {},
   "outputs": [
    {
     "name": "stderr",
     "output_type": "stream",
     "text": [
      "/local/nlp/milad/conda-envs/art-images/lib/python3.9/site-packages/transformers/utils/hub.py:111: FutureWarning: Using `TRANSFORMERS_CACHE` is deprecated and will be removed in v5 of Transformers. Use `HF_HOME` instead.\n",
      "  warnings.warn(\n"
     ]
    }
   ],
   "source": [
    "from transformers import AutoModelForCausalLM, AutoTokenizer\n",
    "from transformers.generation import GenerationConfig\n",
    "import torch\n",
    "from PIL import Image\n",
    "from transformers import AutoProcessor, AutoModelForVision2Seq\n",
    "from transformers import Qwen2_5_VLForConditionalGeneration, AutoProcessor\n",
    "from qwen_vl_utils import process_vision_info\n",
    "\n",
    "import utils"
   ]
  },
  {
   "cell_type": "code",
   "execution_count": 3,
   "metadata": {
    "scrolled": true
   },
   "outputs": [
    {
     "name": "stderr",
     "output_type": "stream",
     "text": [
      "Using a slow image processor as `use_fast` is unset and a slow processor was saved with this model. `use_fast=True` will be the default behavior in v4.52, even if the model was saved with a slow processor. This will result in minor differences in outputs. You'll still be able to use a slow processor with `use_fast=False`.\n",
      "You have video processor config saved in `preprocessor.json` file which is deprecated. Video processor configs should be saved in their own `video_preprocessor.json` file. You can rename the file or load and save the processor back which renames it automatically. Loading from `preprocessor.json` will be removed in v5.0.\n"
     ]
    },
    {
     "data": {
      "application/vnd.jupyter.widget-view+json": {
       "model_id": "c41c5109a74e4b109972264d2246cc9d",
       "version_major": 2,
       "version_minor": 0
      },
      "text/plain": [
       "Loading checkpoint shards:   0%|          | 0/5 [00:00<?, ?it/s]"
      ]
     },
     "metadata": {},
     "output_type": "display_data"
    },
    {
     "data": {
      "text/plain": [
       "Qwen2_5_VLForConditionalGeneration(\n",
       "  (model): Qwen2_5_VLModel(\n",
       "    (visual): Qwen2_5_VisionTransformerPretrainedModel(\n",
       "      (patch_embed): Qwen2_5_VisionPatchEmbed(\n",
       "        (proj): Conv3d(3, 1280, kernel_size=(2, 14, 14), stride=(2, 14, 14), bias=False)\n",
       "      )\n",
       "      (rotary_pos_emb): Qwen2_5_VisionRotaryEmbedding()\n",
       "      (blocks): ModuleList(\n",
       "        (0-31): 32 x Qwen2_5_VLVisionBlock(\n",
       "          (norm1): Qwen2RMSNorm((1280,), eps=1e-06)\n",
       "          (norm2): Qwen2RMSNorm((1280,), eps=1e-06)\n",
       "          (attn): Qwen2_5_VLVisionSdpaAttention(\n",
       "            (qkv): Linear(in_features=1280, out_features=3840, bias=True)\n",
       "            (proj): Linear(in_features=1280, out_features=1280, bias=True)\n",
       "          )\n",
       "          (mlp): Qwen2_5_VLMLP(\n",
       "            (gate_proj): Linear(in_features=1280, out_features=3420, bias=True)\n",
       "            (up_proj): Linear(in_features=1280, out_features=3420, bias=True)\n",
       "            (down_proj): Linear(in_features=3420, out_features=1280, bias=True)\n",
       "            (act_fn): SiLU()\n",
       "          )\n",
       "        )\n",
       "      )\n",
       "      (merger): Qwen2_5_VLPatchMerger(\n",
       "        (ln_q): Qwen2RMSNorm((1280,), eps=1e-06)\n",
       "        (mlp): Sequential(\n",
       "          (0): Linear(in_features=5120, out_features=5120, bias=True)\n",
       "          (1): GELU(approximate='none')\n",
       "          (2): Linear(in_features=5120, out_features=3584, bias=True)\n",
       "        )\n",
       "      )\n",
       "    )\n",
       "    (language_model): Qwen2_5_VLTextModel(\n",
       "      (embed_tokens): Embedding(152064, 3584)\n",
       "      (layers): ModuleList(\n",
       "        (0-27): 28 x Qwen2_5_VLDecoderLayer(\n",
       "          (self_attn): Qwen2_5_VLSdpaAttention(\n",
       "            (q_proj): Linear(in_features=3584, out_features=3584, bias=True)\n",
       "            (k_proj): Linear(in_features=3584, out_features=512, bias=True)\n",
       "            (v_proj): Linear(in_features=3584, out_features=512, bias=True)\n",
       "            (o_proj): Linear(in_features=3584, out_features=3584, bias=False)\n",
       "            (rotary_emb): Qwen2_5_VLRotaryEmbedding()\n",
       "          )\n",
       "          (mlp): Qwen2MLP(\n",
       "            (gate_proj): Linear(in_features=3584, out_features=18944, bias=False)\n",
       "            (up_proj): Linear(in_features=3584, out_features=18944, bias=False)\n",
       "            (down_proj): Linear(in_features=18944, out_features=3584, bias=False)\n",
       "            (act_fn): SiLU()\n",
       "          )\n",
       "          (input_layernorm): Qwen2RMSNorm((3584,), eps=1e-06)\n",
       "          (post_attention_layernorm): Qwen2RMSNorm((3584,), eps=1e-06)\n",
       "        )\n",
       "      )\n",
       "      (norm): Qwen2RMSNorm((3584,), eps=1e-06)\n",
       "      (rotary_emb): Qwen2_5_VLRotaryEmbedding()\n",
       "    )\n",
       "  )\n",
       "  (lm_head): Linear(in_features=3584, out_features=152064, bias=False)\n",
       ")"
      ]
     },
     "execution_count": 3,
     "metadata": {},
     "output_type": "execute_result"
    }
   ],
   "source": [
    "model_name = \"Qwen/Qwen2.5-VL-7B-Instruct\"  # or use \"Qwen/Qwen2.5-VL-32B-Instruct\"\n",
    "\n",
    "# Use `trust_remote_code=True` for both processor and model\n",
    "processor = AutoProcessor.from_pretrained(model_name, trust_remote_code=True)\n",
    "model = Qwen2_5_VLForConditionalGeneration.from_pretrained(\n",
    "    model_name,\n",
    "    torch_dtype=torch.bfloat16,\n",
    "    device_map=\"auto\",\n",
    "    trust_remote_code=True\n",
    ")\n",
    "model.eval()"
   ]
  },
  {
   "cell_type": "markdown",
   "metadata": {},
   "source": [
    "### Styles of Arches in Architecture"
   ]
  },
  {
   "cell_type": "code",
   "execution_count": 33,
   "metadata": {},
   "outputs": [],
   "source": [
    "def answer_questions(image_question_pairs):\n",
    "    # Generate answers\n",
    "    for image_path, question in image_question_pairs:\n",
    "        image = Image.open(image_path).convert(\"RGB\")\n",
    "    \n",
    "        messages = [\n",
    "            {\n",
    "                \"role\": \"user\",\n",
    "                \"content\": [\n",
    "                    {\n",
    "                        \"type\": \"image\",\n",
    "                        \"image\": image,\n",
    "                    },\n",
    "                    {\"type\": \"text\", \"text\": question},\n",
    "                ],\n",
    "            }\n",
    "        ]\n",
    "        \n",
    "        # Preparation for inference\n",
    "        text = processor.apply_chat_template(\n",
    "            messages, tokenize=False, add_generation_prompt=True\n",
    "        )\n",
    "        image_inputs, video_inputs = process_vision_info(messages)\n",
    "        inputs = processor(\n",
    "            text=[text],\n",
    "            images=image_inputs,\n",
    "            videos=video_inputs,\n",
    "            padding=True,\n",
    "            return_tensors=\"pt\",\n",
    "        )\n",
    "        inputs = inputs.to(\"cuda\")\n",
    "    \n",
    "        with torch.no_grad():\n",
    "            generated_ids = model.generate(**inputs, do_sample=True, max_new_tokens=1000)\n",
    "\n",
    "        generated_ids_trimmed = [\n",
    "            out_ids[len(in_ids) :] for in_ids, out_ids in zip(inputs.input_ids, generated_ids)\n",
    "        ]\n",
    "        output_text = processor.batch_decode(\n",
    "            generated_ids_trimmed, skip_special_tokens=True, clean_up_tokenization_spaces=False\n",
    "        )[0]\n",
    "        print(f\"Q: {question}\\nA: {output_text}\\n\")\n",
    "        print('==============')"
   ]
  },
  {
   "cell_type": "code",
   "execution_count": 36,
   "metadata": {},
   "outputs": [],
   "source": [
    "image_question_pairs = [\n",
    "    ('./data/sample_images/arches_1.png', 'What is this image?'),\n",
    "    ('./data/sample_images/arches_3.png', 'What is the difference between these two arches?'),\n",
    "    ('./data/sample_images/jesus_1.png', 'What is the style of this mosaic? Explain your reasoning.'),\n",
    "    ('./data/sample_images/jesus_2.png', 'What is the style of this mosaic? Explain your reasoning.'),\n",
    "    ('./data/sample_images/jesus_1_and_2.jpg', 'What is the difference in style of these two mosaic pictures? Explain your reasoning.'),\n",
    "]"
   ]
  },
  {
   "cell_type": "code",
   "execution_count": 37,
   "metadata": {
    "scrolled": true
   },
   "outputs": [
    {
     "name": "stdout",
     "output_type": "stream",
     "text": [
      "Q: What is this image?\n",
      "A: This image shows a section of an architectural facade featuring a series of arched openings supported by columns. The arches are pointed and have decorative elements at the top, which suggest a style that could be influenced by Islamic or Moorish architecture. The columns appear to be fluted, a common feature in classical and Renaissance architecture, but the overall design has a distinct Middle Eastern aesthetic. This type of architecture is often found in historical buildings in regions such as Spain, North Africa, or the Middle East. The specific style and origin would depend on more context, such as the location of the building or additional architectural details.\n",
      "\n",
      "==============\n",
      "Q: What is the difference between these two arches?\n",
      "A: The two arches in the image appear to be similar in basic structure, both featuring a pointed top and a rounded base. However, there are some subtle differences:\n",
      "\n",
      "1. **Design Details**: The arch on the left (labeled as 2) has a more ornate design with intricate patterns or carvings around the top and sides, giving it a more elaborate appearance. The arch on the right (labeled as 3) has a simpler design with less detailed patterns.\n",
      "\n",
      "2. **Symmetry**: The arch on the left seems to have a slightly more symmetrical pattern at the top, while the arch on the right appears to have a more organic, less symmetrical design.\n",
      "\n",
      "These differences could indicate variations in style, craftsmanship, or cultural influences. For example, the more ornate arch might be from a period or region where detailed decoration was more common, whereas the simpler arch might be from a different time or place where such details were less emphasized.\n",
      "\n",
      "==============\n",
      "Q: What is the style of this mosaic? Explain your reasoning.\n",
      "A: The mosaic in the image appears to be in the Byzantine style, characterized by its use of gold leaf as a background, intricate details, and a focus on religious iconography. Here are some key elements that support this assessment:\n",
      "\n",
      "1. **Use of Gold Leaf**: The background of the mosaic is covered with gold leaf, which is a common feature in Byzantine art. This technique is used to create a sense of divine light and to symbolize the glory of heaven.\n",
      "\n",
      "2. **Iconography**: The central figure is depicted with a halo, which is a traditional symbol in Christian art representing sanctity or divinity. The figure is holding an open book, often associated with Christ as the Word of God (Logos) in Christian theology.\n",
      "\n",
      "3. **Scriptural Inscriptions**: The inscriptions around the figure are written in Latin and Greek, languages commonly used in Byzantine religious texts. The Latin inscription at the top reads \"REDemptor Mundi,\" meaning \"Savior of the World,\" which is a title for Jesus Christ.\n",
      "\n",
      "4. **Artistic Style**: The detailed and stylized depiction of the figure, along with the ornate borders and the use of vibrant colors, are typical of Byzantine mosaics. The figures are often shown in a frontal pose, which is a common artistic convention in Byzantine iconography.\n",
      "\n",
      "5. **Architectural Context**: The circular frame and the architectural elements surrounding the mosaic suggest it is part of a larger structure, possibly a church or cathedral, which is consistent with the Byzantine tradition of creating large-scale religious artworks.\n",
      "\n",
      "Given these characteristics, it is reasonable to conclude that this mosaic is in the Byzantine style.\n",
      "\n",
      "==============\n",
      "Q: What is the style of this mosaic? Explain your reasoning.\n",
      "A: The mosaic in the image appears to be in the Byzantine style, characterized by its use of gold leaf as a background, intricate details, and a focus on religious iconography. Here are some key elements that support this assessment:\n",
      "\n",
      "1. **Use of Gold Leaf**: The background of the mosaic is covered with gold leaf, which is a common feature in Byzantine art. This not only adds a sense of opulence but also symbolizes divine light and glory.\n",
      "\n",
      "2. **Iconography**: The central figure is depicted with a halo, which is a traditional element in Christian art used to signify holiness or divinity. The figure's pose and the surrounding figures suggest a scene from Christian scripture, likely depicting Jesus Christ.\n",
      "\n",
      "3. **Detailing and Coloration**: The mosaic features detailed work, with the figure of Jesus Christ rendered in vibrant colors such as blue and red, which are typical in Byzantine mosaics. The use of color and the level of detail suggest a high level of craftsmanship.\n",
      "\n",
      "4. **Architectural Context**: The archway and the overall structure of the mosaic suggest it is part of a larger architectural piece, possibly within a church or cathedral. Byzantine mosaics were often used in important religious buildings to convey religious narratives and teachings.\n",
      "\n",
      "5. **Symmetry and Composition**: The composition is symmetrical, with the central figure flanked by other figures, which is a common practice in Byzantine art to create a balanced and harmonious visual effect.\n",
      "\n",
      "Given these characteristics, it is reasonable to conclude that the mosaic is in the Byzantine style, which flourished in the Eastern Roman Empire (Byzantium) and was known for its rich use of gold, intricate details, and religious themes.\n",
      "\n",
      "==============\n",
      "Q: What is the difference in style of these two mosaic pictures? Explain your reasoning.\n",
      "A: The two mosaic pictures you've provided appear to be from the same architectural structure, likely a church or cathedral, and they both feature a central figure of Jesus Christ surrounded by other figures, possibly saints or apostles. However, there are subtle differences in their styles that can be observed:\n",
      "\n",
      "1. **Left Mosaic (Monreale Cathedral, Italy)**:\n",
      "   - The left mosaic is more detailed and intricate. The figures are depicted with fine lines and shading, giving them a three-dimensional appearance.\n",
      "   - The background is richly decorated with gold and various patterns, which adds to the overall opulence and complexity of the design.\n",
      "   - The central figure of Jesus Christ is shown holding a book, which is a common depiction in Christian art, symbolizing his role as the Word of God.\n",
      "\n",
      "2. **Right Mosaic (Cathedral of Monreale, Italy)**:\n",
      "   - The right mosaic has a simpler and more stylized approach compared to the left one. The figures are less detailed, and the lines are broader and less defined.\n",
      "   - The background is also simpler, with fewer decorative elements, giving it a more austere and minimalist feel.\n",
      "   - The central figure of Jesus Christ is depicted in a more frontal and symmetrical manner, which is characteristic of certain Byzantine influences.\n",
      "\n",
      "**Reasoning**:\n",
      "- The left mosaic's style is reminiscent of the Romanesque period, which is known for its detailed and ornate mosaics. The use of gold and intricate patterns aligns with this style.\n",
      "- The right mosaic's style is closer to the Byzantine influence, which is characterized by its simpler forms, broad lines, and a more symbolic representation of figures. The use of gold and the simpler background are typical of Byzantine mosaics.\n",
      "\n",
      "These differences suggest that the mosaics might have been created at different times or by different artists, reflecting the evolution of artistic styles over time within the same architectural context.\n",
      "\n",
      "==============\n"
     ]
    }
   ],
   "source": [
    "answer_questions(image_question_pairs)"
   ]
  },
  {
   "cell_type": "code",
   "execution_count": null,
   "metadata": {},
   "outputs": [],
   "source": []
  }
 ],
 "metadata": {
  "kernelspec": {
   "display_name": "Python 3 (ipykernel)",
   "language": "python",
   "name": "python3"
  },
  "language_info": {
   "codemirror_mode": {
    "name": "ipython",
    "version": 3
   },
   "file_extension": ".py",
   "mimetype": "text/x-python",
   "name": "python",
   "nbconvert_exporter": "python",
   "pygments_lexer": "ipython3",
   "version": "3.9.21"
  }
 },
 "nbformat": 4,
 "nbformat_minor": 4
}
