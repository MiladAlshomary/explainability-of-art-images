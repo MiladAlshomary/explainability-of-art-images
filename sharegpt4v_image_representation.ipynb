{
 "cells": [
  {
   "cell_type": "code",
   "execution_count": 1,
   "metadata": {},
   "outputs": [],
   "source": [
    "%load_ext autoreload"
   ]
  },
  {
   "cell_type": "code",
   "execution_count": 2,
   "metadata": {},
   "outputs": [],
   "source": [
    "import sys\n",
    "import os\n",
    "os.environ['TRANSFORMERS_CACHE'] = '/mnt/swordfish-pool2/milad/hf-cache'\n",
    "os.environ['HF_DATASETS_CACHE'] = '/mnt/swordfish-pool2/milad/hf-cache'\n",
    "os.environ['OPENAI_API_KEY'] = 'zTbZNk16Ik1pZnqLn38ZT3BlbkFJImq3pd7widkr7RzsC771'\n",
    "os.environ['CUDA_VISIBLE_DEVICES'] = '0'\n",
    "\n",
    "sys.path.append('/local/nlp/milad/code/explainability-of-art-images/src-py')\n"
   ]
  },
  {
   "cell_type": "code",
   "execution_count": 3,
   "metadata": {},
   "outputs": [],
   "source": [
    "%autoreload\n",
    "\n",
    "import utils\n",
    "from PIL import Image\n",
    "import torch"
   ]
  },
  {
   "cell_type": "code",
   "execution_count": 12,
   "metadata": {
    "scrolled": true
   },
   "outputs": [
    {
     "name": "stdout",
     "output_type": "stream",
     "text": [
      "Loading ShareGPT4V model...\n"
     ]
    },
    {
     "data": {
      "application/vnd.jupyter.widget-view+json": {
       "model_id": "731606c855f646439af7af0f6eb85bc7",
       "version_major": 2,
       "version_minor": 0
      },
      "text/plain": [
       "Loading checkpoint shards:   0%|          | 0/2 [00:00<?, ?it/s]"
      ]
     },
     "metadata": {},
     "output_type": "display_data"
    },
    {
     "name": "stdout",
     "output_type": "stream",
     "text": [
      "Load vision tower from Lin-Chen/ShareGPT4V-7B_Pretrained_vit-large336-l12\n"
     ]
    }
   ],
   "source": [
    "# 1. Define model path and load the pre-trained model components\n",
    "model_path = \"Lin-Chen/ShareGPT4V-7B\"\n",
    "device = \"cuda:0\"\n",
    "\n",
    "print(\"Loading ShareGPT4V model...\")\n",
    "tokenizer, model, image_processor, context_len = load_pretrained_model(\n",
    "    model_path=model_path,\n",
    "    model_base=None,\n",
    "    model_name=get_model_name_from_path(model_path),\n",
    "    device=device\n",
    ")\n",
    "print(\"Model loaded successfully.\")"
   ]
  },
  {
   "cell_type": "code",
   "execution_count": null,
   "metadata": {},
   "outputs": [],
   "source": [
    "print(f\"Generating descriptions for images in: {image_folder}\")\n",
    "descriptions = generate_descriptions_with_share4v(\n",
    "    folder_path='./data/sample_images/',\n",
    "    tokenizer=tokenizer,\n",
    "    model=model,\n",
    "    image_processor=image_processor,\n",
    "    prompt=\"Compose a short paragraph of formal analysis for this painting\",\n",
    "    conv_mode=\"llava_v1\" ,\n",
    "    device=device,\n",
    "    # You can add other generation arguments here\n",
    "    temperature=0.2,\n",
    "    max_new_tokens=512\n",
    ")"
   ]
  },
  {
   "cell_type": "code",
   "execution_count": 10,
   "metadata": {},
   "outputs": [],
   "source": [
    "# from share4v.model.builder import load_pretrained_model\n",
    "# from share4v.mm_utils import get_model_name_from_path\n",
    "\n",
    "# model_path = \"Lin-Chen/ShareGPT4V-7B\"\n",
    "\n",
    "# sharegpt4v_tokenizer, sharegpt4v_model, image_processor, context_len = load_pretrained_model(\n",
    "#     model_path=model_path,\n",
    "#     model_base=None,\n",
    "#     model_name=get_model_name_from_path(model_path)\n",
    "# )\n",
    "#reps = utils.get_sharegpt4v_image_representations('./data/sample_images', image_processor, sharegpt4v_model.model)"
   ]
  }
 ],
 "metadata": {
  "kernelspec": {
   "display_name": "Python 3 (ipykernel)",
   "language": "python",
   "name": "python3"
  },
  "language_info": {
   "codemirror_mode": {
    "name": "ipython",
    "version": 3
   },
   "file_extension": ".py",
   "mimetype": "text/x-python",
   "name": "python",
   "nbconvert_exporter": "python",
   "pygments_lexer": "ipython3",
   "version": "3.10.18"
  }
 },
 "nbformat": 4,
 "nbformat_minor": 4
}
